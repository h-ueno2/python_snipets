{
 "cells": [
  {
   "cell_type": "markdown",
   "id": "dde6f5c7-1413-4e98-b78c-44a3a7ed12e5",
   "metadata": {},
   "source": [
    "# 文字列関連"
   ]
  },
  {
   "cell_type": "code",
   "execution_count": null,
   "id": "474a0777-affa-41ee-bf90-b8939722eeef",
   "metadata": {},
   "outputs": [],
   "source": [
    "# 文字列の演算\n",
    "book = 'book'\n",
    "print(book * 4)"
   ]
  },
  {
   "cell_type": "code",
   "execution_count": null,
   "id": "730e7bbe-b719-4324-afd5-98a75a8dab1d",
   "metadata": {},
   "outputs": [],
   "source": [
    "print(bool('')) \n",
    "print(bool('bool'))\n",
    "print('oo' in 'bool') # 'oo'が含まれている事を確認\n",
    "print('x' not in 'book') # 'x'が含まれていない事を確認"
   ]
  },
  {
   "cell_type": "code",
   "execution_count": null,
   "id": "a8210c3f-f39d-4205-b0bd-d14071848a6a",
   "metadata": {},
   "outputs": [],
   "source": [
    "a = 'Python'\n",
    "b = 'YEAR!!'\n",
    "print(f'{a}, {b}')\n",
    "print('{}, {}'.format(a, b))"
   ]
  },
  {
   "cell_type": "markdown",
   "id": "cfb862ee-978b-4487-b5b7-94649e50467d",
   "metadata": {},
   "source": [
    "# 配列関連"
   ]
  },
  {
   "cell_type": "markdown",
   "id": "8f8b0ef0-cc7f-4085-aa4b-5fc5f7426ae7",
   "metadata": {},
   "source": [
    "リストの要素を変数に代入できる。"
   ]
  },
  {
   "cell_type": "code",
   "execution_count": null,
   "id": "45491ad2-52d7-4904-bf75-87eff7d1ca4c",
   "metadata": {},
   "outputs": [],
   "source": [
    "arr = [0, 1, 2]\n",
    "a, b, c = arr\n",
    "print(a, b, c)\n",
    "\n",
    "x, y = arr[1:3]\n",
    "print(x, y)"
   ]
  },
  {
   "cell_type": "markdown",
   "id": "5227254a-b7a8-41ae-bbbf-a173505ddd55",
   "metadata": {},
   "source": [
    "### スライス\n",
    "リストの要素を指定して取得できる。\n",
    "\n",
    "```\n",
    "arr[開始インデックス:末尾インデックス:増減幅]\n",
    "```\n",
    "※末尾インデックスで指定したインデックスの一つ前の要素が末尾となる。  \n",
    "　つまり、`arr[x:y]`の場合、`arr[x]`～`arr[y-1]`までの要素が対象となる。"
   ]
  },
  {
   "cell_type": "code",
   "execution_count": null,
   "id": "af5c4ead-c680-4ac5-9a31-ffc44202feb6",
   "metadata": {},
   "outputs": [],
   "source": [
    "arr = [0, 1, 2, 3, 4, 5, 6]\n",
    "print(arr[:5])\n",
    "print(arr[0:5])\n",
    "print(arr[1:5])\n",
    "print(arr[:])\n",
    "print(arr[:-1])\n",
    "print(arr[0:6:2])\n",
    "print(arr[::2])\n",
    "print(arr[::3])"
   ]
  },
  {
   "cell_type": "markdown",
   "id": "1f3413e3-a126-43a7-9a29-3e400824ff0a",
   "metadata": {},
   "source": [
    "### リストの結合"
   ]
  },
  {
   "cell_type": "code",
   "execution_count": null,
   "id": "be8fa376-8438-4b26-a07e-579d60da5397",
   "metadata": {},
   "outputs": [],
   "source": [
    "arr = [0, 1, 2, 3, 4, 5, 6]\n",
    "print(''.join(map(str, arr))) # 123456\n",
    "\n",
    "arr = ['a', 'b', 'c', 'd', 'e']\n",
    "print(''.join(arr))\n",
    "print(','.join(arr))"
   ]
  },
  {
   "cell_type": "markdown",
   "id": "ab4a8e2b-74b2-4350-b28e-a6af1a564355",
   "metadata": {},
   "source": [
    "### リストの型変換"
   ]
  },
  {
   "cell_type": "code",
   "execution_count": null,
   "id": "1b2aac0f-2581-4812-a55d-eb64a4bd5206",
   "metadata": {},
   "outputs": [],
   "source": [
    "arr = [0, 1, 2, 3, 4, 5, 6]\n",
    "arr = list(map(str, arr))\n",
    "print(arr)\n",
    "\n",
    "arr = list(map(int, arr))\n",
    "print(arr)"
   ]
  },
  {
   "cell_type": "markdown",
   "id": "e954b28f-33d5-41a3-adde-4bcfd51a53a7",
   "metadata": {},
   "source": [
    "### 逆順に変更"
   ]
  },
  {
   "cell_type": "code",
   "execution_count": null,
   "id": "1b10d4d4-7956-4678-8f1f-7489f1ee91e1",
   "metadata": {},
   "outputs": [],
   "source": [
    "arr = [0, 1, 2, 3, 4, 5, 6]\n",
    "print(arr[::-1])"
   ]
  },
  {
   "cell_type": "markdown",
   "id": "b35a434e-a2ee-4167-bdf5-b8b0983c4ef1",
   "metadata": {},
   "source": [
    "### 辞書型のKeyとValueを交換"
   ]
  },
  {
   "cell_type": "code",
   "execution_count": null,
   "id": "90a50802-d4c1-4026-a6a8-e01834e753c7",
   "metadata": {},
   "outputs": [],
   "source": [
    "dic = {'a': 1, 'b': 2, 'c': 3}\n",
    "dic = {v : k for k, v in dic.items()}\n",
    "print(dic)"
   ]
  },
  {
   "cell_type": "markdown",
   "id": "c932918a-9a6a-4fc2-9490-2588302613bd",
   "metadata": {},
   "source": [
    "## for文"
   ]
  },
  {
   "cell_type": "code",
   "execution_count": null,
   "id": "12a01227-11ee-4613-b1c4-d86d438420f5",
   "metadata": {},
   "outputs": [],
   "source": [
    "arr = [0, 1, 2, 3, 4, 5, 6]\n",
    "for item in arr:\n",
    "    print(item)"
   ]
  },
  {
   "cell_type": "code",
   "execution_count": null,
   "id": "83b5c04f-eeb5-4fb0-b6cd-787e2456dedf",
   "metadata": {},
   "outputs": [],
   "source": [
    "# 逆順\n",
    "for item in reversed(arr):\n",
    "    print(item)"
   ]
  },
  {
   "cell_type": "code",
   "execution_count": null,
   "id": "6d3c716d-8915-4bb7-975e-d47fc176e250",
   "metadata": {},
   "outputs": [],
   "source": [
    "# インデックスも一緒に取得したい\n",
    "for i, item in enumerate(arr):\n",
    "    print(i, item)"
   ]
  },
  {
   "cell_type": "code",
   "execution_count": null,
   "id": "1655b2d1-0e4a-4ce3-91d8-e60c1c96355f",
   "metadata": {},
   "outputs": [],
   "source": [
    "# 一定回数ループだけしたい\n",
    "for _ in range(3):\n",
    "    print(\"a\")"
   ]
  },
  {
   "cell_type": "code",
   "execution_count": null,
   "id": "06e8de1f-080b-4549-a4c1-4b8f503567a1",
   "metadata": {},
   "outputs": [],
   "source": [
    "# インデックスの開始位置を変更\n",
    "for i in range (2, 5):\n",
    "    print(i)"
   ]
  },
  {
   "cell_type": "code",
   "execution_count": null,
   "id": "59136612-6255-4fe2-9c51-2b63c5f42d20",
   "metadata": {},
   "outputs": [],
   "source": [
    "# インデックスの増幅変更\n",
    "for i in range (0, 10, 2):\n",
    "    print(i)"
   ]
  },
  {
   "cell_type": "code",
   "execution_count": null,
   "id": "ab7489bf-8215-4dea-9383-cdab59bb996f",
   "metadata": {},
   "outputs": [],
   "source": [
    "# インデックスをデクリメント\n",
    "for i in range(10, 0, -1):\n",
    "    print(i)"
   ]
  },
  {
   "cell_type": "markdown",
   "id": "f2bbdc98-c75d-4878-b754-b6d7b41db940",
   "metadata": {},
   "source": [
    "## 内包表記"
   ]
  },
  {
   "cell_type": "code",
   "execution_count": null,
   "id": "eb951c7b-b049-4102-8429-10b5d4070663",
   "metadata": {},
   "outputs": [],
   "source": [
    "numbers = [str(v) for v in range(10)]\n",
    "print(numbers)"
   ]
  },
  {
   "cell_type": "code",
   "execution_count": null,
   "id": "a8007afc-d282-4443-b8d3-705f12bdf12b",
   "metadata": {},
   "outputs": [],
   "source": [
    "# 条件式をつけれる\n",
    "evens = [v for v in range(10) if v%2 == 0]\n",
    "print(evens)"
   ]
  },
  {
   "cell_type": "code",
   "execution_count": null,
   "id": "d9038ddc-a33b-40b1-9108-4e3cf02cd71b",
   "metadata": {},
   "outputs": [],
   "source": [
    "# 囲みを変えるとセットになる。\n",
    "numbers = {str(v) for v in range(10)}\n",
    "print(numbers)"
   ]
  },
  {
   "cell_type": "code",
   "execution_count": null,
   "id": "114d719a-c8ad-4cb1-a132-53ac791b0c0c",
   "metadata": {},
   "outputs": [],
   "source": [
    "# dictにもできる。\n",
    "dic = {str(x) : x for x in range(10)}\n",
    "print(dic)"
   ]
  },
  {
   "cell_type": "markdown",
   "id": "3e723cb7-db73-4646-a38a-4cf9e49f619a",
   "metadata": {},
   "source": [
    "#### 2重ループで内包表記"
   ]
  },
  {
   "cell_type": "code",
   "execution_count": null,
   "id": "45673bb8-7c8b-42ed-af97-83e291422237",
   "metadata": {},
   "outputs": [],
   "source": [
    "arr = [x * y for x in range(1, 4) for y in range(1, 4)]\n",
    "print(arr)"
   ]
  },
  {
   "cell_type": "markdown",
   "id": "3c88cffc-cd57-4fb5-aede-c2b5c6f2febb",
   "metadata": {},
   "source": [
    "# その他使えそうなスニペット"
   ]
  },
  {
   "cell_type": "markdown",
   "id": "954f33f7-5322-4d75-8a96-37b5a369c843",
   "metadata": {},
   "source": [
    "### 10進数からn進数への基数変換"
   ]
  },
  {
   "cell_type": "code",
   "execution_count": null,
   "id": "dda06557-69e3-467d-bda7-59185a5ab6ec",
   "metadata": {},
   "outputs": [],
   "source": [
    "# 36進数まで対応可能\n",
    "def base10int(value, base):\n",
    "    if (int(value / base)):\n",
    "        return base10int(int(value / base), base) + str(value % base)\n",
    "    return str(value % base)"
   ]
  }
 ],
 "metadata": {
  "kernelspec": {
   "display_name": "Python 3",
   "language": "python",
   "name": "python3"
  },
  "language_info": {
   "codemirror_mode": {
    "name": "ipython",
    "version": 3
   },
   "file_extension": ".py",
   "mimetype": "text/x-python",
   "name": "python",
   "nbconvert_exporter": "python",
   "pygments_lexer": "ipython3",
   "version": "3.9.2"
  }
 },
 "nbformat": 4,
 "nbformat_minor": 5
}
